{
  "nbformat": 4,
  "nbformat_minor": 0,
  "metadata": {
    "colab": {
      "provenance": []
    },
    "kernelspec": {
      "name": "python3",
      "display_name": "Python 3"
    },
    "language_info": {
      "name": "python"
    }
  },
  "cells": [
    {
      "cell_type": "code",
      "execution_count": 1,
      "metadata": {
        "id": "XXXl5TutXe4N"
      },
      "outputs": [],
      "source": [
        "import numpy as np\n",
        "import matplotlib.pyplot as plt\n",
        "import math\n",
        "from sklearn import datasets\n",
        "import pandas as pd"
      ]
    },
    {
      "cell_type": "code",
      "source": [
        "iris = datasets.load_iris()\n",
        "X=iris.data\n",
        "Y=iris.target\n",
        "labels=iris.target_names\n",
        "label_dict={0:labels[0],1:labels[1],2:labels[2]}\n",
        "label_dict"
      ],
      "metadata": {
        "colab": {
          "base_uri": "https://localhost:8080/"
        },
        "id": "61QAX3gHXqEl",
        "outputId": "98758e58-5398-495c-9a81-686b69375f0c"
      },
      "execution_count": 11,
      "outputs": [
        {
          "output_type": "execute_result",
          "data": {
            "text/plain": [
              "{0: np.str_('setosa'), 1: np.str_('versicolor'), 2: np.str_('virginica')}"
            ]
          },
          "metadata": {},
          "execution_count": 11
        }
      ]
    },
    {
      "cell_type": "code",
      "source": [
        "mean_vectors=[]\n",
        "for cl in range(0,3):\n",
        "  mean_vectors.append(np.mean(X[Y==cl],axis=0))\n",
        "  print(f\"Mean vector class {cl+1}: {mean_vectors[cl]}\\n\")\n"
      ],
      "metadata": {
        "colab": {
          "base_uri": "https://localhost:8080/"
        },
        "id": "JNBzda_MX3Ky",
        "outputId": "61aaa8f9-7da3-4599-c4a1-ad74890c2da6"
      },
      "execution_count": 19,
      "outputs": [
        {
          "output_type": "stream",
          "name": "stdout",
          "text": [
            "Mean vector class 1: [5.006 3.428 1.462 0.246]\n",
            "\n",
            "Mean vector class 2: [5.936 2.77  4.26  1.326]\n",
            "\n",
            "Mean vector class 3: [6.588 2.974 5.552 2.026]\n",
            "\n"
          ]
        }
      ]
    },
    {
      "cell_type": "code",
      "source": [
        "S_w = np.zeros((4,4))\n",
        "for cl,mv in zip(range(0,3),mean_vectors):\n",
        "  # general scatter matrix filled with 0s\n",
        "  class_sc_mat = np.zeros((4,4))\n",
        "  # for every row where class corresponds to respective iteration\n",
        "  for row in X[Y==cl]:\n",
        "    # column vectors\n",
        "    # reshaping from 1x4 to 4x1\n",
        "    row,mv = row.reshape(4,1),mv.reshape(4,1)\n",
        "    # scatter matrix for every class\n",
        "    class_sc_mat += (row-mv).dot((row-mv).T)\n",
        "  # sum scatter matrices\n",
        "  S_w += class_sc_mat\n",
        "\n",
        "print(\"Within class scatter matrix:\\n\",S_w)"
      ],
      "metadata": {
        "colab": {
          "base_uri": "https://localhost:8080/"
        },
        "id": "j9IA8tQrX5zw",
        "outputId": "2183f704-72a8-488b-d1ec-13a9595d3b28"
      },
      "execution_count": 23,
      "outputs": [
        {
          "output_type": "stream",
          "name": "stdout",
          "text": [
            "Within class scatter matrix:\n",
            " [[38.9562 13.63   24.6246  5.645 ]\n",
            " [13.63   16.962   8.1208  4.8084]\n",
            " [24.6246  8.1208 27.2226  6.2718]\n",
            " [ 5.645   4.8084  6.2718  6.1566]]\n"
          ]
        }
      ]
    },
    {
      "cell_type": "code",
      "source": [
        "np.set_printoptions(precision=4)\n",
        "# between class scatter matrices\n",
        "overall_mean = np.mean(X,axis=0)\n",
        "S_b = np.zeros((4,4))\n",
        "# for every iteration in the mean vectors\n",
        "for i,mean_vec in enumerate(mean_vectors):\n",
        "  # no of samples per class\n",
        "  n = X[Y==i,:].shape[0]\n",
        "  # reshaping from 1x4 to 4x1\n",
        "  mean_vec = mean_vec.reshape(4,1)\n",
        "  overall_mean = overall_mean.reshape(4,1)\n",
        "  S_b += n * (mean_vec - overall_mean).dot((mean_vec - overall_mean).T)\n",
        "print('Between-class Scatter Matrix:\\n', S_b)"
      ],
      "metadata": {
        "colab": {
          "base_uri": "https://localhost:8080/"
        },
        "id": "8cVKJwKcZy2G",
        "outputId": "5e3a6e34-4f0d-403e-c3d4-7ea8e2aaf603"
      },
      "execution_count": 32,
      "outputs": [
        {
          "output_type": "stream",
          "name": "stdout",
          "text": [
            "Between-class Scatter Matrix:\n",
            " [[ 63.2121 -19.9527 165.2484  71.2793]\n",
            " [-19.9527  11.3449 -57.2396 -22.9327]\n",
            " [165.2484 -57.2396 437.1028 186.774 ]\n",
            " [ 71.2793 -22.9327 186.774   80.4133]]\n"
          ]
        }
      ]
    },
    {
      "cell_type": "code",
      "source": [
        "eigenvalues, eigenvectors = np.linalg.eig(np.linalg.inv(S_w).dot(S_b))\n",
        "for i in range(len(eigenvalues)):\n",
        "  eigenvectors_sc = eigenvectors[:,i].reshape(4,1)\n",
        "  print(f\"Eigenvector {i+1}: \\n{eigenvectors_sc}\\n\")\n",
        "  print(f\"Eigenvalue {i+1}: \\n{eigenvalues[i]}\\n\")"
      ],
      "metadata": {
        "colab": {
          "base_uri": "https://localhost:8080/"
        },
        "id": "2cYeeGXpbTEM",
        "outputId": "2695aee8-56d8-46af-deb1-a776333471df"
      },
      "execution_count": 33,
      "outputs": [
        {
          "output_type": "stream",
          "name": "stdout",
          "text": [
            "Eigenvector 1: \n",
            "[[-0.2087+0.j]\n",
            " [-0.3862+0.j]\n",
            " [ 0.554 +0.j]\n",
            " [ 0.7074+0.j]]\n",
            "\n",
            "Eigenvalue 1: \n",
            "(32.191929198278025+0j)\n",
            "\n",
            "Eigenvector 2: \n",
            "[[-0.0065+0.j]\n",
            " [-0.5866+0.j]\n",
            " [ 0.2526+0.j]\n",
            " [-0.7695+0.j]]\n",
            "\n",
            "Eigenvalue 2: \n",
            "(0.28539104262306647+0j)\n",
            "\n",
            "Eigenvector 3: \n",
            "[[-0.1416+0.5257j]\n",
            " [-0.2125-0.2304j]\n",
            " [-0.2703-0.2289j]\n",
            " [ 0.6927+0.j    ]]\n",
            "\n",
            "Eigenvalue 3: \n",
            "(-2.8907453147977534e-15+2.365998256149152e-15j)\n",
            "\n",
            "Eigenvector 4: \n",
            "[[-0.1416-0.5257j]\n",
            " [-0.2125+0.2304j]\n",
            " [-0.2703+0.2289j]\n",
            " [ 0.6927-0.j    ]]\n",
            "\n",
            "Eigenvalue 4: \n",
            "(-2.8907453147977534e-15-2.365998256149152e-15j)\n",
            "\n"
          ]
        }
      ]
    },
    {
      "cell_type": "code",
      "source": [
        "# Av= λv\n",
        "for i in range(len(eigenvalues)):\n",
        "  eigenvectors_sc = eigenvectors[:,i].reshape(4,1)\n",
        "  np.testing.assert_array_almost_equal(np.linalg.inv(S_w).dot(S_b).dot(eigenvectors_sc),eigenvalues[i] * eigenvectors_sc,\n",
        "          decimal=6,err_msg='',verbose=True)\n",
        "  print(f\"ok {i+1}\")"
      ],
      "metadata": {
        "colab": {
          "base_uri": "https://localhost:8080/"
        },
        "id": "tFSWBgfccSSl",
        "outputId": "7a08eb96-1403-483b-ad71-d335ecf443ea"
      },
      "execution_count": 38,
      "outputs": [
        {
          "output_type": "stream",
          "name": "stdout",
          "text": [
            "ok 1\n",
            "ok 2\n",
            "ok 3\n",
            "ok 4\n"
          ]
        }
      ]
    },
    {
      "cell_type": "code",
      "source": [
        "# eigenvector + its corresponding value\n",
        "eigen_pairs = [(np.abs(eigenvalues[i]),eigenvectors[:,i]) for i in range(len(eigenvalues))]\n",
        "eigen_pairs = sorted(eigen_pairs,key=lambda k: k[0],reverse=True)\n",
        "print('Eigenvalues in decreasing order:\\n')\n",
        "for i in eigen_pairs:\n",
        "  print(i[0])"
      ],
      "metadata": {
        "colab": {
          "base_uri": "https://localhost:8080/"
        },
        "id": "KT2epaJhdsKs",
        "outputId": "4ce95c4f-5117-45df-efec-af86321cc724"
      },
      "execution_count": 40,
      "outputs": [
        {
          "output_type": "stream",
          "name": "stdout",
          "text": [
            "Eigenvalues in decreasing order:\n",
            "\n",
            "32.191929198278025\n",
            "0.28539104262306647\n",
            "3.7355530009793716e-15\n",
            "3.7355530009793716e-15\n"
          ]
        }
      ]
    },
    {
      "cell_type": "code",
      "source": [
        "print(\"Variance explained: \\n\")\n",
        "eig_val_sc = [(i/sum(eigenvalues))*100 for i in sorted(eigenvalues,reverse=True)]\n",
        "for i in range(0,4):\n",
        "  print(f\"Eigenvalue {i+1}: {eig_val_sc[i].real:.2f}%\")"
      ],
      "metadata": {
        "colab": {
          "base_uri": "https://localhost:8080/"
        },
        "id": "Ln-P2OsueI4q",
        "outputId": "a03fb624-801b-49be-a8d1-a5612f797c60"
      },
      "execution_count": 51,
      "outputs": [
        {
          "output_type": "stream",
          "name": "stdout",
          "text": [
            "Variance explained: \n",
            "\n",
            "Eigenvalue 1: 99.12%\n",
            "Eigenvalue 2: 0.88%\n",
            "Eigenvalue 3: -0.00%\n",
            "Eigenvalue 4: -0.00%\n"
          ]
        }
      ]
    },
    {
      "cell_type": "code",
      "source": [
        "# eigenvector matrix 4x2 (4 features, 2 important eigenvectors)\n",
        "W = np.hstack((eigen_pairs[0][1].reshape(4,1),eigen_pairs[1][1].reshape(4,1)))\n",
        "print(\"Matrix W:\\n\",W.real)"
      ],
      "metadata": {
        "colab": {
          "base_uri": "https://localhost:8080/"
        },
        "id": "bJdMPqkjeUcy",
        "outputId": "2781aebf-a37e-4cae-fb66-4fc8fef8b748"
      },
      "execution_count": 52,
      "outputs": [
        {
          "output_type": "stream",
          "name": "stdout",
          "text": [
            "Matrix W:\n",
            " [[-0.2087 -0.0065]\n",
            " [-0.3862 -0.5866]\n",
            " [ 0.554   0.2526]\n",
            " [ 0.7074 -0.7695]]\n"
          ]
        }
      ]
    },
    {
      "cell_type": "code",
      "source": [
        "# Y=X x W (X-matrix with original iris.data)\n",
        "X_lda=X.dot(W)"
      ],
      "metadata": {
        "id": "05YdSpy8gBwS"
      },
      "execution_count": 53,
      "outputs": []
    },
    {
      "cell_type": "code",
      "source": [
        "def plot_step_lda():\n",
        "  ax = plt.subplot()\n",
        "  for label, marker, color in zip(\n",
        "      range(0,3),(\"^\",\"s\",\"o\"),(\"blue\",\"red\",\"green\")):\n",
        "      plt.scatter(x=X_lda[:,0].real[Y==label],\n",
        "                    y=X_lda[:,1].real[Y==label],\n",
        "                    marker=marker,\n",
        "                    color=color,\n",
        "                    alpha=0.5,\n",
        "                    label=label_dict[label])\n",
        "  plt.xlabel('LD1')\n",
        "  plt.ylabel('LD2')\n",
        "  leg = plt.legend(loc='upper right', fancybox=True)\n",
        "  leg.get_frame().set_alpha(0.5)\n",
        "  plt.title('LDA: Iris projection onto the first 2 linear discriminants')\n",
        "  plt.tick_params(axis=\"both\", which=\"both\", bottom=\"off\", top=\"off\",\n",
        "                  labelbottom=\"on\", left=\"off\", right=\"off\", labelleft=\"on\")\n",
        "  plt.grid()\n",
        "  plt.tight_layout()\n",
        "  plt.show()\n",
        "\n",
        "plot_step_lda()"
      ],
      "metadata": {
        "colab": {
          "base_uri": "https://localhost:8080/",
          "height": 487
        },
        "id": "HGsU9oRpgYoX",
        "outputId": "c089ab5f-d436-46eb-e2ac-e1f78b1e947e"
      },
      "execution_count": 58,
      "outputs": [
        {
          "output_type": "display_data",
          "data": {
            "text/plain": [
              "<Figure size 640x480 with 1 Axes>"
            ],
            "image/png": "[encoded data removed]"
          },
          "metadata": {}
        }
      ]
    },
    {
      "cell_type": "code",
      "source": [
        "from sklearn.discriminant_analysis import LinearDiscriminantAnalysis as LDA\n",
        "X=iris.data\n",
        "Y=iris.target\n",
        "clf=LDA()\n",
        "clf.fit_transform(X,Y)\n",
        "clf.predict(X)\n",
        "# mean accuracy\n",
        "clf.score(X,Y)"
      ],
      "metadata": {
        "colab": {
          "base_uri": "https://localhost:8080/"
        },
        "id": "9fu0FmpWhw25",
        "outputId": "3f33cc91-2002-40d0-a95d-5489baaf6e91"
      },
      "execution_count": 65,
      "outputs": [
        {
          "output_type": "execute_result",
          "data": {
            "text/plain": [
              "0.98"
            ]
          },
          "metadata": {},
          "execution_count": 65
        }
      ]
    }
  ]
}